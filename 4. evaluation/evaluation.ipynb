{
 "cells": [
  {
   "cell_type": "code",
   "execution_count": 1,
   "id": "42483e2f",
   "metadata": {},
   "outputs": [],
   "source": [
    "from sklearn.metrics import mean_squared_error\n",
    "import numpy as np\n",
    "\n",
    "\n",
    "def evaluate_rmse_forecast(df_forecast, df_real, col_forecast='rate_pred', col_actual='rate'):\n",
    "    \"\"\"\n",
    "    Compute RMSE between forecasted and actual exchange rates (or log_rates).\n",
    "\n",
    "    Parameters:\n",
    "    - df_forecast: DataFrame with predicted values (indexed by date)\n",
    "    - df_real: DataFrame with actual values (indexed by date)\n",
    "    - col_forecast: column name in df_forecast (e.g. 'rate_pred' or 'log_rate_pred')\n",
    "    - col_actual: column name in df_real (e.g. 'rate' or 'log_rate')\n",
    "\n",
    "    Returns:\n",
    "    - rmse: root mean square error\n",
    "    \"\"\"\n",
    "    # Align both dataframes on index (date)\n",
    "    df_eval = df_forecast[[col_forecast]].join(df_real[[col_actual]], how='inner')\n",
    "\n",
    "    # Extract arrays\n",
    "    y_pred = df_eval[col_forecast].values\n",
    "    y_true = df_eval[col_actual].values\n",
    "\n",
    "    # Compute RMSE\n",
    "    rmse = np.sqrt(mean_squared_error(y_true, y_pred))\n",
    "    print(f\"✅ RMSE between simulated forecast and real data: {rmse:.6f}\")\n",
    "    \n",
    "    return rmse\n",
    "\n",
    "def evaluate_rmse_horizons(df_forecast, df_real,\n",
    "                           col_forecast='rate_pred', col_actual='rate'):\n",
    "    \"\"\"\n",
    "    Compute RMSE over 6 months, 12 months, and full forecast period.\n",
    "    \"\"\"\n",
    "    # Align the dataframes\n",
    "    df = df_forecast[[col_forecast]].join(df_real[[col_actual]], how='inner')\n",
    "    df = df.sort_index()\n",
    "    \n",
    "    # Define horizon lengths (in days)\n",
    "    horizons = {\n",
    "        '6_months':  6 * 30,   # ≈180 days\n",
    "        '12_months': 12 * 30,  # ≈360 days\n",
    "        'all':       len(df)\n",
    "    }\n",
    "    results = {}\n",
    "\n",
    "    for name, days in horizons.items():\n",
    "        sub = df.iloc[:days]\n",
    "        if sub.empty:\n",
    "            results[name] = np.nan\n",
    "            continue\n",
    "\n",
    "        rmse_val = np.sqrt(mean_squared_error(sub[col_actual], sub[col_forecast]))\n",
    "        results[name] = rmse_val\n",
    "        print(f\"✅ RMSE @ {name.replace('_', ' ')} ({days} days): {rmse_val:.6f}\")\n",
    "\n",
    "    return results"
   ]
  },
  {
   "cell_type": "code",
   "execution_count": 2,
   "id": "40c194d7",
   "metadata": {},
   "outputs": [
    {
     "name": "stdout",
     "output_type": "stream",
     "text": [
      "✅ RMSE @ 6 months (180 days): 0.020879\n",
      "✅ RMSE @ 12 months (360 days): 0.018025\n",
      "✅ RMSE @ all (520 days): 0.018991\n"
     ]
    },
    {
     "data": {
      "text/plain": [
       "{'6_months': 0.0208793127545774,\n",
       " '12_months': 0.01802515317846195,\n",
       " 'all': 0.018990833999870064}"
      ]
     },
     "execution_count": 2,
     "metadata": {},
     "output_type": "execute_result"
    }
   ],
   "source": [
    "# For rates\n",
    "import pandas as pd\n",
    "df_test = pd.read_csv('../2. preprocesing/test_df_dexuseu.csv', index_col='date', parse_dates=True)\n",
    "df_forecast = pd.read_csv('../3. modelling/df_forecast_dexuseu.csv', index_col='date', parse_dates=True)\n",
    "# evaluate_rmse_forecast(df_forecast, df_test, col_forecast='rate_mean', col_actual='rate_interpolated')\n",
    "evaluate_rmse_horizons(df_forecast, df_test, col_forecast='rate_mean', col_actual='rate_interpolated')\n"
   ]
  },
  {
   "cell_type": "code",
   "execution_count": 3,
   "id": "ce619fc5",
   "metadata": {},
   "outputs": [
    {
     "name": "stdout",
     "output_type": "stream",
     "text": [
      "✅ RMSE @ 6 months (180 days): 0.003884\n",
      "✅ RMSE @ 12 months (360 days): 0.004013\n",
      "✅ RMSE @ all (520 days): 0.003490\n"
     ]
    },
    {
     "data": {
      "text/plain": [
       "{'6_months': 0.0038842822478595065,\n",
       " '12_months': 0.004012982368597237,\n",
       " 'all': 0.003490467628075406}"
      ]
     },
     "execution_count": 3,
     "metadata": {},
     "output_type": "execute_result"
    }
   ],
   "source": [
    "df_test = pd.read_csv('../2. preprocesing/test_df_dexussf.csv', index_col='date', parse_dates=True)\n",
    "df_forecast = pd.read_csv('../3. modelling/df_forecast_dexussf.csv', index_col='date', parse_dates=True)\n",
    "# evaluate_rmse_forecast(df_forecast, df_test, col_forecast='rate_mean', col_actual='rate_interpolated')\n",
    "evaluate_rmse_horizons(df_forecast, df_test, col_forecast='rate_mean', col_actual='rate_interpolated')"
   ]
  },
  {
   "cell_type": "code",
   "execution_count": 4,
   "id": "fc5c18fb",
   "metadata": {},
   "outputs": [
    {
     "name": "stdout",
     "output_type": "stream",
     "text": [
      "✅ RMSE @ 6 months (180 days): 0.012981\n",
      "✅ RMSE @ 12 months (360 days): 0.014837\n",
      "✅ RMSE @ all (520 days): 0.017537\n"
     ]
    },
    {
     "data": {
      "text/plain": [
       "{'6_months': 0.01298068660524391,\n",
       " '12_months': 0.014836522486164173,\n",
       " 'all': 0.017536832704797882}"
      ]
     },
     "execution_count": 4,
     "metadata": {},
     "output_type": "execute_result"
    }
   ],
   "source": [
    "df_test = pd.read_csv('../2. preprocesing/test_df_usdpen.csv', index_col='date', parse_dates=True)\n",
    "df_forecast = pd.read_csv('../3. modelling/df_forecast_usdpen.csv', index_col='date', parse_dates=True)\n",
    "# evaluate_rmse_forecast(df_forecast, df_test, col_forecast='rate_mean', col_actual='rate_interpolated')\n",
    "evaluate_rmse_horizons(df_forecast, df_test, col_forecast='rate_mean', col_actual='rate_interpolated')"
   ]
  },
  {
   "cell_type": "code",
   "execution_count": null,
   "id": "f843e88e",
   "metadata": {},
   "outputs": [],
   "source": []
  }
 ],
 "metadata": {
  "kernelspec": {
   "display_name": "Python 3",
   "language": "python",
   "name": "python3"
  },
  "language_info": {
   "codemirror_mode": {
    "name": "ipython",
    "version": 3
   },
   "file_extension": ".py",
   "mimetype": "text/x-python",
   "name": "python",
   "nbconvert_exporter": "python",
   "pygments_lexer": "ipython3",
   "version": "3.11.9"
  }
 },
 "nbformat": 4,
 "nbformat_minor": 5
}
