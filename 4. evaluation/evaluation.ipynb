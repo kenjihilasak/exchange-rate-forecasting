{
 "cells": [
  {
   "cell_type": "code",
   "execution_count": null,
   "id": "42483e2f",
   "metadata": {},
   "outputs": [],
   "source": [
    "from sklearn.metrics import mean_squared_error\n",
    "import numpy as np\n",
    "\n",
    "\n",
    "def evaluate_rmse_forecast(df_forecast, df_real, col_forecast='rate_pred', col_actual='rate'):\n",
    "    \"\"\"\n",
    "    Compute RMSE between forecasted and actual exchange rates (or log_rates).\n",
    "\n",
    "    Parameters:\n",
    "    - df_forecast: DataFrame with predicted values (indexed by date)\n",
    "    - df_real: DataFrame with actual values (indexed by date)\n",
    "    - col_forecast: column name in df_forecast (e.g. 'rate_pred' or 'log_rate_pred')\n",
    "    - col_actual: column name in df_real (e.g. 'rate' or 'log_rate')\n",
    "\n",
    "    Returns:\n",
    "    - rmse: root mean square error\n",
    "    \"\"\"\n",
    "    # Align both dataframes on index (date)\n",
    "    df_eval = df_forecast[[col_forecast]].join(df_real[[col_actual]], how='inner')\n",
    "\n",
    "    # Extract arrays\n",
    "    y_pred = df_eval[col_forecast].values\n",
    "    y_true = df_eval[col_actual].values\n",
    "\n",
    "    # Compute RMSE\n",
    "    rmse = np.sqrt(mean_squared_error(y_true, y_pred))\n",
    "    print(f\"✅ RMSE between simulated forecast and real data: {rmse:.6f}\")\n",
    "    \n",
    "    return rmse\n"
   ]
  },
  {
   "cell_type": "code",
   "execution_count": 12,
   "id": "40c194d7",
   "metadata": {},
   "outputs": [
    {
     "name": "stdout",
     "output_type": "stream",
     "text": [
      "✅ RMSE between simulated forecast and real data: 0.188063\n"
     ]
    },
    {
     "data": {
      "text/plain": [
       "0.1880629409794718"
      ]
     },
     "execution_count": 12,
     "metadata": {},
     "output_type": "execute_result"
    }
   ],
   "source": [
    "# For rates\n",
    "import pandas as pd\n",
    "df_test = pd.read_csv('../7. preprocesing/test_df_dexuseu.csv', index_col='date', parse_dates=True)\n",
    "df_forecast = pd.read_csv('../8. modelling/df_forecast_dexuseu.csv', index_col='date', parse_dates=True)\n",
    "evaluate_rmse_forecast(df_forecast, df_test, col_forecast='rate_pred', col_actual='rate_interpolated')\n",
    "\n"
   ]
  },
  {
   "cell_type": "code",
   "execution_count": null,
   "id": "ce619fc5",
   "metadata": {},
   "outputs": [],
   "source": []
  }
 ],
 "metadata": {
  "kernelspec": {
   "display_name": "Python 3",
   "language": "python",
   "name": "python3"
  },
  "language_info": {
   "codemirror_mode": {
    "name": "ipython",
    "version": 3
   },
   "file_extension": ".py",
   "mimetype": "text/x-python",
   "name": "python",
   "nbconvert_exporter": "python",
   "pygments_lexer": "ipython3",
   "version": "3.11.9"
  }
 },
 "nbformat": 4,
 "nbformat_minor": 5
}
