{
 "cells": [
  {
   "cell_type": "code",
   "execution_count": 6,
   "id": "4246eb68",
   "metadata": {},
   "outputs": [
    {
     "name": "stdout",
     "output_type": "stream",
     "text": [
      "The autoreload extension is already loaded. To reload it, use:\n",
      "  %reload_ext autoreload\n"
     ]
    }
   ],
   "source": [
    "%load_ext autoreload\n",
    "%autoreload 2"
   ]
  },
  {
   "cell_type": "code",
   "execution_count": 7,
   "id": "42483e2f",
   "metadata": {},
   "outputs": [],
   "source": [
    "from sklearn.metrics import mean_squared_error\n",
    "import numpy as np\n",
    "import pandas as pd\n",
    "\n",
    "from rmse import (\n",
    "    evaluate_rmse_mae_per_path\n",
    ")"
   ]
  },
  {
   "cell_type": "code",
   "execution_count": 8,
   "id": "2f1fc941",
   "metadata": {},
   "outputs": [
    {
     "name": "stdout",
     "output_type": "stream",
     "text": [
      "Expected RMSE (Monte Carlo): 0.023752\n",
      "Expected MAE  (Monte Carlo): 0.020811\n"
     ]
    }
   ],
   "source": [
    "# Evaluation for 1 month\n",
    "df_test = pd.read_csv('../2. preprocesing/test_df_dexuseu.csv', index_col='date', parse_dates=True)\n",
    "df_paths = pd.read_csv('../3. modelling/df_forecast_dexuseu_1_month.csv', index_col='path_number')\n",
    "df_paths.columns = pd.to_datetime(df_paths.columns)   # Convert column names to datetime\n",
    "\n",
    "rmse_values, expected_rmse, mae_values, expected_mae = evaluate_rmse_mae_per_path(\n",
    "    df_paths=df_paths,\n",
    "    df_test=df_test,\n",
    "    rate_col='rate'\n",
    ")\n",
    "\n",
    "print(f\"Expected RMSE (Monte Carlo): {expected_rmse:.6f}\")\n",
    "print(f\"Expected MAE  (Monte Carlo): {expected_mae:.6f}\")"
   ]
  },
  {
   "cell_type": "code",
   "execution_count": 9,
   "id": "6e0f37f9",
   "metadata": {},
   "outputs": [
    {
     "name": "stdout",
     "output_type": "stream",
     "text": [
      "Expected RMSE (Monte Carlo): 0.051179\n",
      "Expected MAE  (Monte Carlo): 0.043700\n"
     ]
    }
   ],
   "source": [
    "# Evaluation for 6 month\n",
    "df_test = pd.read_csv('../2. preprocesing/test_df_dexuseu.csv', index_col='date', parse_dates=True)\n",
    "df_paths = pd.read_csv('../3. modelling/df_forecast_dexuseu_6_month.csv', index_col='path_number')\n",
    "df_paths.columns = pd.to_datetime(df_paths.columns)   # Convert column names to datetime\n",
    "\n",
    "rmse_values, expected_rmse, mae_values, expected_mae = evaluate_rmse_mae_per_path(\n",
    "    df_paths=df_paths,\n",
    "    df_test=df_test,\n",
    "    rate_col='rate'\n",
    ")\n",
    "\n",
    "print(f\"Expected RMSE (Monte Carlo): {expected_rmse:.6f}\")\n",
    "print(f\"Expected MAE  (Monte Carlo): {expected_mae:.6f}\")"
   ]
  },
  {
   "cell_type": "code",
   "execution_count": 10,
   "id": "fca6da70",
   "metadata": {},
   "outputs": [
    {
     "name": "stdout",
     "output_type": "stream",
     "text": [
      "Expected RMSE (Monte Carlo): 0.070647\n",
      "Expected MAE  (Monte Carlo): 0.060366\n"
     ]
    }
   ],
   "source": [
    "# Evaluation for 12 month\n",
    "df_test = pd.read_csv('../2. preprocesing/test_df_dexuseu.csv', index_col='date', parse_dates=True)\n",
    "df_paths = pd.read_csv('../3. modelling/df_forecast_dexuseu_12_month.csv', index_col='path_number')\n",
    "df_paths.columns = pd.to_datetime(df_paths.columns)   # Convert column names to datetime\n",
    "\n",
    "rmse_values, expected_rmse, mae_values, expected_mae = evaluate_rmse_mae_per_path(\n",
    "    df_paths=df_paths,\n",
    "    df_test=df_test,\n",
    "    rate_col='rate'\n",
    ")\n",
    "\n",
    "print(f\"Expected RMSE (Monte Carlo): {expected_rmse:.6f}\")\n",
    "print(f\"Expected MAE  (Monte Carlo): {expected_mae:.6f}\")"
   ]
  },
  {
   "cell_type": "code",
   "execution_count": 11,
   "id": "40c194d7",
   "metadata": {},
   "outputs": [
    {
     "name": "stdout",
     "output_type": "stream",
     "text": [
      "Expected RMSE (Monte Carlo): 0.097083\n",
      "Expected MAE  (Monte Carlo): 0.083316\n"
     ]
    }
   ],
   "source": [
    "# Evaluation for 2 years\n",
    "df_test = pd.read_csv('../2. preprocesing/test_df_dexuseu.csv', index_col='date', parse_dates=True)\n",
    "df_paths = pd.read_csv('../3. modelling/df_forecast_dexuseu.csv', index_col='path_number')\n",
    "df_paths.columns = pd.to_datetime(df_paths.columns)   # Convert column names to datetime\n",
    "\n",
    "rmse_values, expected_rmse, mae_values, expected_mae = evaluate_rmse_mae_per_path(\n",
    "    df_paths=df_paths,\n",
    "    df_test=df_test,\n",
    "    rate_col='rate'\n",
    ")\n",
    "\n",
    "print(f\"Expected RMSE (Monte Carlo): {expected_rmse:.6f}\")\n",
    "print(f\"Expected MAE  (Monte Carlo): {expected_mae:.6f}\")\n"
   ]
  },
  {
   "cell_type": "code",
   "execution_count": null,
   "id": "f843e88e",
   "metadata": {},
   "outputs": [],
   "source": []
  },
  {
   "cell_type": "code",
   "execution_count": null,
   "id": "d5d5546d",
   "metadata": {},
   "outputs": [],
   "source": []
  },
  {
   "cell_type": "code",
   "execution_count": null,
   "id": "1a49b225",
   "metadata": {},
   "outputs": [],
   "source": []
  },
  {
   "cell_type": "code",
   "execution_count": null,
   "id": "50990830",
   "metadata": {},
   "outputs": [],
   "source": []
  },
  {
   "cell_type": "code",
   "execution_count": null,
   "id": "b9157009",
   "metadata": {},
   "outputs": [],
   "source": []
  }
 ],
 "metadata": {
  "kernelspec": {
   "display_name": "Python 3",
   "language": "python",
   "name": "python3"
  },
  "language_info": {
   "codemirror_mode": {
    "name": "ipython",
    "version": 3
   },
   "file_extension": ".py",
   "mimetype": "text/x-python",
   "name": "python",
   "nbconvert_exporter": "python",
   "pygments_lexer": "ipython3",
   "version": "3.11.9"
  }
 },
 "nbformat": 4,
 "nbformat_minor": 5
}
