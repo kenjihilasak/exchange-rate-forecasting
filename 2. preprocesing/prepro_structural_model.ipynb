{
 "cells": [
  {
   "cell_type": "markdown",
   "id": "10494067",
   "metadata": {},
   "source": [
    "## M1 monetary aggregates"
   ]
  },
  {
   "cell_type": "code",
   "execution_count": 4,
   "id": "69da4be3",
   "metadata": {},
   "outputs": [
    {
     "name": "stdout",
     "output_type": "stream",
     "text": [
      "Interpolated daily series saved successfully from 2015-01-01.\n"
     ]
    }
   ],
   "source": [
    "import pandas as pd\n",
    "\n",
    "# Load the CSV files\n",
    "m1_eu = pd.read_csv(r'C:\\Users\\luish\\OneDrive - University of Leeds\\9. DISERTATION\\2. Development\\code\\1. data\\M1_EU.csv', parse_dates=True)\n",
    "m1_usa = pd.read_csv(r'C:\\Users\\luish\\OneDrive - University of Leeds\\9. DISERTATION\\2. Development\\code\\1. data\\M1_USA.csv', parse_dates=True)\n",
    "\n",
    "# Select only the necessary columns\n",
    "m1_eu = m1_eu.iloc[:, [0, 2]]\n",
    "m1_usa = m1_usa.iloc[:, :2]\n",
    "m1_eu.columns = ['date', 'M1']\n",
    "m1_usa.columns = ['date', 'M1']\n",
    "\n",
    "# Convert 'date' column to datetime\n",
    "m1_eu['date'] = pd.to_datetime(m1_eu['date'])\n",
    "m1_usa['date'] = pd.to_datetime(m1_usa['date'])\n",
    "\n",
    "# Step 1: Filter from 2014-12-31 to 2024-12-31 to allow interpolation\n",
    "raw_start, final_start, end = '2014-12-31', '2015-01-01', '2024-12-31'\n",
    "m1_eu = m1_eu[(m1_eu['date'] >= raw_start) & (m1_eu['date'] <= end)]\n",
    "m1_usa = m1_usa[(m1_usa['date'] >= raw_start) & (m1_usa['date'] <= end)]\n",
    "\n",
    "# Step 2: Set date index for resampling\n",
    "m1_eu.set_index('date', inplace=True)\n",
    "m1_usa.set_index('date', inplace=True)\n",
    "\n",
    "# Step 3: Create full daily date index\n",
    "full_daily_index = pd.date_range(start=raw_start, end=end, freq='D')\n",
    "\n",
    "# Step 4: Reindex and interpolate\n",
    "m1_eu_daily = m1_eu.reindex(full_daily_index).interpolate(method='linear')\n",
    "m1_usa_daily = m1_usa.reindex(full_daily_index).interpolate(method='linear')\n",
    "\n",
    "# Step 5: Trim from 2015-01-01 onwards\n",
    "m1_eu_daily = m1_eu_daily.loc[final_start:]\n",
    "m1_usa_daily = m1_usa_daily.loc[final_start:]\n",
    "\n",
    "# Reset index and rename\n",
    "m1_eu_daily.index.name = 'date'\n",
    "m1_usa_daily.index.name = 'date'\n",
    "m1_eu_daily.reset_index(inplace=True)\n",
    "m1_usa_daily.reset_index(inplace=True)\n",
    "\n",
    "# Step 6: Save final interpolated files\n",
    "m1_eu_daily.to_csv(r'C:\\Users\\luish\\OneDrive - University of Leeds\\9. DISERTATION\\2. Development\\code\\2. preprocesing\\M1_EU_daily.csv', index=False)\n",
    "m1_usa_daily.to_csv(r'C:\\Users\\luish\\OneDrive - University of Leeds\\9. DISERTATION\\2. Development\\code\\2. preprocesing\\M1_USA_daily.csv', index=False)\n",
    "\n",
    "print(\"Interpolated daily series saved successfully from 2015-01-01.\")\n",
    "\n",
    "\n"
   ]
  },
  {
   "cell_type": "markdown",
   "id": "2e84cba4",
   "metadata": {},
   "source": [
    "## Interest rate - 3 months"
   ]
  },
  {
   "cell_type": "code",
   "execution_count": 5,
   "id": "f0dea195",
   "metadata": {},
   "outputs": [
    {
     "name": "stdout",
     "output_type": "stream",
     "text": [
      "EU columns: Index(['observation_date', 'IR3TIB01EZM156N'], dtype='object')\n",
      "USA columns: Index(['observation_date', 'TB3MS'], dtype='object')\n",
      "Daily interest rate files saved with forward-fill applied from 2015-01-01.\n"
     ]
    }
   ],
   "source": [
    "import pandas as pd\n",
    "\n",
    "# Load interest rate files\n",
    "r3m_eu = pd.read_csv(\n",
    "    r'C:\\Users\\luish\\OneDrive - University of Leeds\\9. DISERTATION\\2. Development\\code\\1. data\\interest_rate_3m_EU.csv',\n",
    "    parse_dates=True\n",
    ")\n",
    "r3m_usa = pd.read_csv(\n",
    "    r'C:\\Users\\luish\\OneDrive - University of Leeds\\9. DISERTATION\\2. Development\\code\\1. data\\interest_rate_3m_USA.csv',\n",
    "    parse_dates=True\n",
    ")\n",
    "\n",
    "# Show original column names\n",
    "print(\"EU columns:\", r3m_eu.columns)\n",
    "print(\"USA columns:\", r3m_usa.columns)\n",
    "\n",
    "# Keep only the first two columns and rename them\n",
    "r3m_eu = r3m_eu.iloc[:, :2]\n",
    "r3m_usa = r3m_usa.iloc[:, :2]\n",
    "r3m_eu.columns = ['date', 'rate']\n",
    "r3m_usa.columns = ['date', 'rate']\n",
    "\n",
    "# Convert 'date' to datetime format\n",
    "r3m_eu['date'] = pd.to_datetime(r3m_eu['date'])\n",
    "r3m_usa['date'] = pd.to_datetime(r3m_usa['date'])\n",
    "\n",
    "# Step 1: Keep a slightly wider window to ensure fill coverage\n",
    "raw_start, final_start, end = '2014-12-31', '2015-01-01', '2024-12-31'\n",
    "r3m_eu = r3m_eu[(r3m_eu['date'] >= raw_start) & (r3m_eu['date'] <= end)]\n",
    "r3m_usa = r3m_usa[(r3m_usa['date'] >= raw_start) & (r3m_usa['date'] <= end)]\n",
    "\n",
    "# Step 2: Set date as index\n",
    "r3m_eu.set_index('date', inplace=True)\n",
    "r3m_usa.set_index('date', inplace=True)\n",
    "\n",
    "# Step 3: Create full daily date index\n",
    "daily_index = pd.date_range(start=raw_start, end=end, freq='D')\n",
    "\n",
    "# Step 4: Reindex and forward-fill (step function behavior)\n",
    "r3m_eu_daily = r3m_eu.reindex(daily_index).ffill()\n",
    "r3m_usa_daily = r3m_usa.reindex(daily_index).ffill()\n",
    "\n",
    "# Step 5: Trim to start from 2015-01-01\n",
    "r3m_eu_daily = r3m_eu_daily.loc[final_start:]\n",
    "r3m_usa_daily = r3m_usa_daily.loc[final_start:]\n",
    "\n",
    "# Step 6: Reset index and rename\n",
    "r3m_eu_daily.index.name = 'date'\n",
    "r3m_usa_daily.index.name = 'date'\n",
    "r3m_eu_daily.reset_index(inplace=True)\n",
    "r3m_usa_daily.reset_index(inplace=True)\n",
    "\n",
    "# Step 7: Save daily resampled datasets\n",
    "r3m_eu_daily.to_csv(\n",
    "    r'C:\\Users\\luish\\OneDrive - University of Leeds\\9. DISERTATION\\2. Development\\code\\2. preprocesing\\interest_rate_3m_EU_daily.csv',\n",
    "    index=False\n",
    ")\n",
    "r3m_usa_daily.to_csv(\n",
    "    r'C:\\Users\\luish\\OneDrive - University of Leeds\\9. DISERTATION\\2. Development\\code\\2. preprocesing\\interest_rate_3m_USA_daily.csv',\n",
    "    index=False\n",
    ")\n",
    "\n",
    "print(\"Daily interest rate files saved with forward-fill applied from 2015-01-01.\")\n",
    "                                          "
   ]
  },
  {
   "cell_type": "markdown",
   "id": "4fa821a4",
   "metadata": {},
   "source": [
    "## Industrial production"
   ]
  },
  {
   "cell_type": "code",
   "execution_count": 6,
   "id": "98d1f94d",
   "metadata": {},
   "outputs": [
    {
     "name": "stdout",
     "output_type": "stream",
     "text": [
      "Daily production series saved successfully for EU and USA.\n"
     ]
    }
   ],
   "source": [
    "import pandas as pd\n",
    "import numpy as np\n",
    "\n",
    "# ----------------------------------------\n",
    "# Load Eurozone Industrial Production (Quarterly)\n",
    "# ----------------------------------------\n",
    "\n",
    "eu_file = r'C:\\Users\\luish\\OneDrive - University of Leeds\\9. DISERTATION\\2. Development\\code\\1. data\\INDPRO_Q_EU.csv'\n",
    "eu_ip = pd.read_csv(eu_file, parse_dates=['observation_date'])\n",
    "eu_ip.columns = ['date', 'IP_EU']\n",
    "eu_ip.set_index('date', inplace=True)\n",
    "\n",
    "# Reindex to monthly start-of-month dates using forward-fill\n",
    "monthly_index = pd.date_range(start='2014-12-31', end='2024-12-31', freq='MS')\n",
    "eu_ip_monthly = eu_ip.reindex(monthly_index, method='ffill')\n",
    "\n",
    "# Then reindex to daily and interpolate linearly\n",
    "daily_index = pd.date_range(start='2015-01-01', end='2024-12-31', freq='D')\n",
    "eu_ip_daily = eu_ip_monthly.reindex(daily_index).interpolate(method='linear')\n",
    "eu_ip_daily.index.name = 'date'\n",
    "eu_ip_daily.reset_index(inplace=True)\n",
    "\n",
    "# ----------------------------------------\n",
    "# Load US Industrial Production (Monthly)\n",
    "# ----------------------------------------\n",
    "\n",
    "us_file = r'C:\\Users\\luish\\OneDrive - University of Leeds\\9. DISERTATION\\2. Development\\code\\1. data\\INDPRO_USA.csv'\n",
    "us_ip = pd.read_csv(us_file, parse_dates=['observation_date'])\n",
    "us_ip.columns = ['date', 'IP_USA']\n",
    "us_ip.set_index('date', inplace=True)\n",
    "\n",
    "# Reindex to daily and interpolate linearly\n",
    "us_ip_daily = us_ip.reindex(daily_index).interpolate(method='linear')\n",
    "us_ip_daily.index.name = 'date'\n",
    "us_ip_daily.reset_index(inplace=True)\n",
    "\n",
    "# ----------------------------------------\n",
    "# Save both as daily CSVs\n",
    "# ----------------------------------------\n",
    "\n",
    "eu_ip_daily.to_csv(\n",
    "    r'C:\\Users\\luish\\OneDrive - University of Leeds\\9. DISERTATION\\2. Development\\code\\2. preprocesing\\INDPRO_EU_daily.csv',\n",
    "    index=False\n",
    ")\n",
    "\n",
    "us_ip_daily.to_csv(\n",
    "    r'C:\\Users\\luish\\OneDrive - University of Leeds\\9. DISERTATION\\2. Development\\code\\2. preprocesing\\INDPRO_USA_daily.csv',\n",
    "    index=False\n",
    ")\n",
    "\n",
    "print(\"Daily production series saved successfully for EU and USA.\")\n"
   ]
  }
 ],
 "metadata": {
  "kernelspec": {
   "display_name": "Python 3",
   "language": "python",
   "name": "python3"
  },
  "language_info": {
   "codemirror_mode": {
    "name": "ipython",
    "version": 3
   },
   "file_extension": ".py",
   "mimetype": "text/x-python",
   "name": "python",
   "nbconvert_exporter": "python",
   "pygments_lexer": "ipython3",
   "version": "3.11.9"
  }
 },
 "nbformat": 4,
 "nbformat_minor": 5
}
