{
 "cells": [
  {
   "cell_type": "code",
   "execution_count": 7,
   "id": "69da4be3",
   "metadata": {},
   "outputs": [
    {
     "name": "stdout",
     "output_type": "stream",
     "text": [
      "Index(['DATE', 'TIME PERIOD',\n",
      "       'Monetary aggregate M1 reported by MFIs, central gov. and post office giro institutions in the euro area (stocks) (BSI.M.U2.N.V.M10.X.1.U2.2300.Z01.E)'],\n",
      "      dtype='object')\n",
      "          date          M1\n",
      "420 2015-01-31  6031110.33\n",
      "421 2015-02-28  6061480.69\n",
      "422 2015-03-31  6119643.32\n",
      "423 2015-04-30  6203808.63\n",
      "424 2015-05-31  6302867.55\n",
      "        date      M1\n",
      "0 2015-01-01  2941.1\n",
      "1 2015-02-01  2979.6\n",
      "2 2015-03-01  3023.9\n",
      "3 2015-04-01  3035.4\n",
      "4 2015-05-01  2975.9\n",
      "Archivos filtrados guardados correctamente.\n"
     ]
    }
   ],
   "source": [
    "import pandas as pd\n",
    "\n",
    "# Leer los archivos\n",
    "m1_eu = pd.read_csv(r'C:\\Users\\luish\\OneDrive - University of Leeds\\9. DISERTATION\\2. Development\\code\\1. data\\M1_EU.csv', parse_dates=True)\n",
    "m1_usa = pd.read_csv(r'C:\\Users\\luish\\OneDrive - University of Leeds\\9. DISERTATION\\2. Development\\code\\1. data\\M1_USA.csv', parse_dates=True)\n",
    "\n",
    "# Verifica los nombres originales de las columnas\n",
    "print(m1_eu.columns)\n",
    "\n",
    "# I just needs the first and the third columns\n",
    "# Seleccionar las columnas necesarias\n",
    "m1_eu = m1_eu.iloc[:, [0, 2]]\n",
    "m1_usa = m1_usa.iloc[:, :2]\n",
    "m1_eu.columns = ['date', 'M1']\n",
    "m1_usa.columns = ['date', 'M1']\n",
    "# !is neccesary to convert to usd currency?\n",
    "\n",
    "# Convertir la columna de fecha a datetime si es necesario\n",
    "m1_eu['date'] = pd.to_datetime(m1_eu['date'])\n",
    "m1_usa['date'] = pd.to_datetime(m1_usa['date'])\n",
    "\n",
    "# Filtrar por rango de fechas\n",
    "start, end = '2015-01-01', '2024-12-31'\n",
    "m1_eu = m1_eu[(m1_eu['date'] >= start) & (m1_eu['date'] <= end)]\n",
    "m1_usa = m1_usa[(m1_usa['date'] >= start) & (m1_usa['date'] <= end)]\n",
    "\n",
    "# Mostrar las primeras filas para verificar\n",
    "print(m1_eu.head())\n",
    "print(m1_usa.head())\n",
    "\n",
    "# Guardar los DataFrames filtrados en archivos CSV\n",
    "m1_eu.to_csv(r'C:\\Users\\luish\\OneDrive - University of Leeds\\9. DISERTATION\\2. Development\\code\\2. preprocesing\\M1_EU.csv', index=False)\n",
    "m1_usa.to_csv(r'C:\\Users\\luish\\OneDrive - University of Leeds\\9. DISERTATION\\2. Development\\code\\2. preprocesing\\M1_USA.csv', index=False)\n",
    "print(\"Archivos filtrados guardados correctamente.\")"
   ]
  },
  {
   "cell_type": "code",
   "execution_count": 9,
   "id": "f0dea195",
   "metadata": {},
   "outputs": [
    {
     "name": "stdout",
     "output_type": "stream",
     "text": [
      "Index(['observation_date', 'IR3TIB01EZM156N'], dtype='object')\n",
      "Index(['observation_date', 'TB3MS'], dtype='object')\n",
      "        date      rate\n",
      "0 2015-01-01  0.062667\n",
      "1 2015-02-01  0.048200\n",
      "2 2015-03-01  0.027182\n",
      "3 2015-04-01  0.004700\n",
      "4 2015-05-01 -0.010368\n",
      "        date  rate\n",
      "0 2015-01-01  0.03\n",
      "1 2015-02-01  0.02\n",
      "2 2015-03-01  0.03\n",
      "3 2015-04-01  0.02\n",
      "4 2015-05-01  0.02\n",
      "Archivos de tasas de interés filtrados y guardados correctamente.\n"
     ]
    }
   ],
   "source": [
    "import pandas as pd\n",
    "\n",
    "# Leer los archivos de tasas de interés\n",
    "r3m_eu = pd.read_csv(r'C:\\Users\\luish\\OneDrive - University of Leeds\\9. DISERTATION\\2. Development\\code\\1. data\\interest_rate_3m_EU.csv', parse_dates=True)\n",
    "r3m_usa = pd.read_csv(r'C:\\Users\\luish\\OneDrive - University of Leeds\\9. DISERTATION\\2. Development\\code\\1. data\\interest_rate_3m_USA.csv', parse_dates=True)\n",
    "\n",
    "# Verifica los nombres originales de las columnas\n",
    "print(r3m_eu.columns)\n",
    "print(r3m_usa.columns)\n",
    "\n",
    "# Selecciona solo las dos primeras columnas (ajusta si es necesario)\n",
    "r3m_eu = r3m_eu.iloc[:, :2]\n",
    "r3m_usa = r3m_usa.iloc[:, :2]\n",
    "r3m_eu.columns = ['date', 'rate']\n",
    "r3m_usa.columns = ['date', 'rate']\n",
    "\n",
    "# Convertir la columna de fecha a datetime si es necesario\n",
    "r3m_eu['date'] = pd.to_datetime(r3m_eu['date'])\n",
    "r3m_usa['date'] = pd.to_datetime(r3m_usa['date'])\n",
    "\n",
    "# Filtrar por rango de fechas\n",
    "start, end = '2015-01-01', '2024-12-31'\n",
    "r3m_eu = r3m_eu[(r3m_eu['date'] >= start) & (r3m_eu['date'] <= end)]\n",
    "r3m_usa = r3m_usa[(r3m_usa['date'] >= start) & (r3m_usa['date'] <= end)]\n",
    "\n",
    "# Mostrar las primeras filas para verificar\n",
    "print(r3m_eu.head())\n",
    "print(r3m_usa.head())\n",
    "\n",
    "# Guardar los DataFrames filtrados en archivos CSV\n",
    "r3m_eu.to_csv(r'C:\\Users\\luish\\OneDrive - University of Leeds\\9. DISERTATION\\2. Development\\code\\2. preprocesing\\interest_rate_3m_EU.csv', index=False)\n",
    "r3m_usa.to_csv(r'C:\\Users\\luish\\OneDrive - University of Leeds\\9. DISERTATION\\2. Development\\code\\2. preprocesing\\interest_rate_3m_USA.csv', index=False)\n",
    "print(\"Archivos de tasas de interés filtrados y guardados correctamente.\")                                            "
   ]
  },
  {
   "cell_type": "code",
   "execution_count": null,
   "id": "98d1f94d",
   "metadata": {},
   "outputs": [],
   "source": []
  }
 ],
 "metadata": {
  "kernelspec": {
   "display_name": "Python 3",
   "language": "python",
   "name": "python3"
  },
  "language_info": {
   "codemirror_mode": {
    "name": "ipython",
    "version": 3
   },
   "file_extension": ".py",
   "mimetype": "text/x-python",
   "name": "python",
   "nbconvert_exporter": "python",
   "pygments_lexer": "ipython3",
   "version": "3.11.9"
  }
 },
 "nbformat": 4,
 "nbformat_minor": 5
}
